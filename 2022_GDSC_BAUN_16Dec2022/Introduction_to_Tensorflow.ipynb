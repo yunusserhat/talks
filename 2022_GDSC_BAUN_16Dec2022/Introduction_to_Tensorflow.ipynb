{
  "nbformat": 4,
  "nbformat_minor": 0,
  "metadata": {
    "colab": {
      "provenance": [],
      "include_colab_link": true
    },
    "kernelspec": {
      "name": "python3",
      "display_name": "Python 3"
    },
    "language_info": {
      "name": "python"
    }
  },
  "cells": [
    {
      "cell_type": "markdown",
      "metadata": {
        "id": "view-in-github",
        "colab_type": "text"
      },
      "source": [
        "<a href=\"https://colab.research.google.com/github/yunusserhat/talks/blob/main/2022_GDSC_BAUN_16Dec2022/Introduction_to_Tensorflow.ipynb\" target=\"_parent\"><img src=\"https://colab.research.google.com/assets/colab-badge.svg\" alt=\"Open In Colab\"/></a>"
      ]
    },
    {
      "cell_type": "markdown",
      "source": [
        "# *Tensorflow'a Giriş*\n",
        "### Yunus Serhat Bıçakçı, PhD\n",
        "### https://linktr.ee/yunusserhat "
      ],
      "metadata": {
        "id": "wsmBqIjAPmMK"
      }
    },
    {
      "cell_type": "markdown",
      "source": [
        "### Araç Gereçler\n",
        "\n",
        "Bu çalışmada kodlama için [python](https://www.python.org/) programalama dilini kullanacağız. [Python](https://www.python.org/) makine öğrenmesinde en sık kullanılan yazılım dili olarak karşımıza çıkmaktadır. \n",
        "\n",
        "Bu dökümanı açık kaynaklı bir kütüphane olan [jupyter](https://jupyter.org/) notebook üzerinde [Google Colab](https://research.google.com/colaboratory/) ile çalıştırabilirsiniz."
      ],
      "metadata": {
        "id": "RZaFrYtHDppe"
      }
    },
    {
      "cell_type": "markdown",
      "source": [
        "# Tensorflow Nedir?\n",
        "\n",
        "TensorFlow, Google tarafından geliştirilen bir açık kaynak kodlu makine öğrenme kütüphanesidir. Bu kütüphane, derin öğrenme ve diğer makine öğrenme modellerini oluşturmak, eğitmek ve dağıtmak için kullanılabilir. TensorFlow, Python ve diğer dillerle birlikte kullanılabilir ve küçük ve büyük ölçekli sistemlerde etkin bir şekilde çalışabilir ([ChatGPT](https://chat.openai.com/chat), 2022).\n",
        "\n",
        "## Makine Öğrenmesi Nedir? \n",
        "\n",
        "Bilgisayarların geçmiş verilerden matematiksel modeller yardımıyla öğrenme gerçekleştirerek tahminleme yapma sürecidir. \n"
      ],
      "metadata": {
        "id": "2itdMWRuE46_"
      }
    },
    {
      "cell_type": "markdown",
      "source": [
        "# Çoklu Sınıflandırma Problemi"
      ],
      "metadata": {
        "id": "yUMz4lmVPaM9"
      }
    },
    {
      "cell_type": "markdown",
      "source": [
        "MNIST veri seti ile basit bir sinir ağı eğitilecektir. Model, 28x28 gri tonlamalı görüntülerden 10 farklı sınıftan (0-9) birisine sınıflandırma yapması beklenmektedir. \n",
        "\n",
        "Eğer Google Colab haricinde kodu çalıştırmak isterseniz, TensorFlow'u ve diğer gerekli kütüphaneleri kurmanız gerekmektedir. "
      ],
      "metadata": {
        "id": "83jI6qtDOeHC"
      }
    },
    {
      "cell_type": "code",
      "source": [
        "# Gerekli kütüphaneleri yükleme \n",
        "\n",
        "import tensorflow as tf\n",
        "from tensorflow import keras"
      ],
      "metadata": {
        "id": "bEN6o_4LMK9D"
      },
      "execution_count": null,
      "outputs": []
    },
    {
      "cell_type": "code",
      "source": [
        "# MNIST veri setini yükleme \n",
        "\n",
        "mnist = keras.datasets.mnist\n",
        "(train_images, train_labels), (test_images, test_labels) = mnist.load_data()"
      ],
      "metadata": {
        "id": "qeHqCL_7MP_f",
        "colab": {
          "base_uri": "https://localhost:8080/"
        },
        "outputId": "61430114-d14d-4ba4-a41f-515d10a27041"
      },
      "execution_count": null,
      "outputs": [
        {
          "output_type": "stream",
          "name": "stdout",
          "text": [
            "Downloading data from https://storage.googleapis.com/tensorflow/tf-keras-datasets/mnist.npz\n",
            "11490434/11490434 [==============================] - 0s 0us/step\n"
          ]
        }
      ]
    },
    {
      "cell_type": "code",
      "source": [
        "# Piksel değerlerini normalize etme \n",
        "\n",
        "train_images = train_images / 255.0\n",
        "test_images = test_images / 255.0"
      ],
      "metadata": {
        "id": "B0TDYoM5MW9S"
      },
      "execution_count": null,
      "outputs": []
    },
    {
      "cell_type": "code",
      "source": [
        "# Model Kurma \n",
        "\n",
        "model = keras.Sequential([\n",
        "    keras.layers.Flatten(input_shape=(28, 28)),  # Input layer\n",
        "    keras.layers.Dense(128, activation='relu'),  # Hidden layer\n",
        "    keras.layers.Dense(10, activation='softmax') # Output layer\n",
        "])"
      ],
      "metadata": {
        "id": "0fRYlgZ6McL-"
      },
      "execution_count": null,
      "outputs": []
    },
    {
      "cell_type": "code",
      "source": [
        "# Model derleme \n",
        "\n",
        "model.compile(optimizer='adam',\n",
        "              loss='sparse_categorical_crossentropy',\n",
        "              metrics=['accuracy'])"
      ],
      "metadata": {
        "id": "xVCvAKhVMfxF"
      },
      "execution_count": null,
      "outputs": []
    },
    {
      "cell_type": "code",
      "source": [
        "# Model eğitimi \n",
        "\n",
        "model.fit(train_images, train_labels, epochs=5)"
      ],
      "metadata": {
        "id": "Zevu5afOMk_5",
        "colab": {
          "base_uri": "https://localhost:8080/"
        },
        "outputId": "00da0722-3c26-46ff-92fd-5c16705ad1f6"
      },
      "execution_count": null,
      "outputs": [
        {
          "output_type": "stream",
          "name": "stdout",
          "text": [
            "Epoch 1/5\n",
            "1875/1875 [==============================] - 7s 3ms/step - loss: 0.2608 - accuracy: 0.9249\n",
            "Epoch 2/5\n",
            "1875/1875 [==============================] - 6s 3ms/step - loss: 0.1136 - accuracy: 0.9657\n",
            "Epoch 3/5\n",
            "1875/1875 [==============================] - 6s 3ms/step - loss: 0.0788 - accuracy: 0.9767\n",
            "Epoch 4/5\n",
            "1875/1875 [==============================] - 6s 3ms/step - loss: 0.0593 - accuracy: 0.9820\n",
            "Epoch 5/5\n",
            "1875/1875 [==============================] - 6s 3ms/step - loss: 0.0459 - accuracy: 0.9858\n"
          ]
        },
        {
          "output_type": "execute_result",
          "data": {
            "text/plain": [
              "<keras.callbacks.History at 0x7f826f6eb070>"
            ]
          },
          "metadata": {},
          "execution_count": 7
        }
      ]
    },
    {
      "cell_type": "code",
      "source": [
        "# Model performansını ölçme \n",
        "\n",
        "test_loss, test_acc = model.evaluate(test_images, test_labels)\n",
        "print('Test accuracy:', test_acc)"
      ],
      "metadata": {
        "id": "Oxzkz-vEMoFJ",
        "colab": {
          "base_uri": "https://localhost:8080/"
        },
        "outputId": "d2e2fdf5-1aa5-4749-b8f2-50d6a166624e"
      },
      "execution_count": null,
      "outputs": [
        {
          "output_type": "stream",
          "name": "stdout",
          "text": [
            "313/313 [==============================] - 1s 3ms/step - loss: 0.0751 - accuracy: 0.9779\n",
            "Test accuracy: 0.9779000282287598\n"
          ]
        }
      ]
    }
  ]
}